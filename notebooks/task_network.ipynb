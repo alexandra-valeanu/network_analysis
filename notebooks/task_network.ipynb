{
 "cells": [
  {
   "cell_type": "markdown",
   "metadata": {},
   "source": [
    "### Import dependencies"
   ]
  },
  {
   "cell_type": "code",
   "execution_count": 1,
   "metadata": {},
   "outputs": [
    {
     "name": "stdout",
     "output_type": "stream",
     "text": [
      "You are connected to Cytoscape!\n"
     ]
    },
    {
     "data": {
      "text/plain": [
       "{'apiVersion': 'v1',\n",
       " 'cytoscapeVersion': '3.10.2',\n",
       " 'automationAPIVersion': '1.9.0',\n",
       " 'py4cytoscapeVersion': '1.9.0'}"
      ]
     },
     "execution_count": 1,
     "metadata": {},
     "output_type": "execute_result"
    }
   ],
   "source": [
    "import pandas as pd\n",
    "import os \n",
    "\n",
    "import py4cytoscape as p4c\n",
    "dir(p4c)\n",
    "p4c.cytoscape_ping()\n",
    "p4c.cytoscape_version_info()"
   ]
  },
  {
   "cell_type": "markdown",
   "metadata": {},
   "source": [
    "### Read variants list "
   ]
  },
  {
   "cell_type": "code",
   "execution_count": 2,
   "metadata": {},
   "outputs": [],
   "source": [
    "variant_list = \"../data/variant_list.txt\"\n",
    "\n",
    "with open(f'{variant_list}', 'r') as file:\n",
    "    rsids = [line.strip() for line in file]"
   ]
  },
  {
   "cell_type": "markdown",
   "metadata": {},
   "source": [
    "### Initialize BioMart server and dataset\n",
    "- host: homosapiens\n",
    "- dataset: hsapiens_snp"
   ]
  },
  {
   "cell_type": "code",
   "execution_count": 3,
   "metadata": {},
   "outputs": [],
   "source": [
    "from pybiomart import Dataset  \n",
    "\n",
    "dataset = Dataset(name='hsapiens_snp', host='http://www.ensembl.org')\n",
    "\n",
    "attributes = ['refsnp_id', 'associated_gene']\n",
    "\n",
    "snp_df = dataset.query(\n",
    "    attributes=attributes,\n",
    "    filters={'snp_filter': rsids}\n",
    ")\n",
    "\n",
    "snp_df.columns = attributes"
   ]
  },
  {
   "cell_type": "markdown",
   "metadata": {},
   "source": [
    "### Manipulate the data:\n",
    "- explode df to contain one gene per row\n",
    "- drop duplicate rows\n",
    "- drop rows with missing gene values if variant is not unique"
   ]
  },
  {
   "cell_type": "code",
   "execution_count": 4,
   "metadata": {},
   "outputs": [],
   "source": [
    "snp_df['associated_gene'] = snp_df['associated_gene'].str.split(',')\n",
    "snp_df = snp_df.explode('associated_gene')\n",
    "snp_df = snp_df.drop_duplicates()\n",
    "\n",
    "duplicate_refsnp_id = snp_df['refsnp_id'].duplicated(keep=False)\n",
    "nan_entries_gene = snp_df['associated_gene'].isna()\n",
    "snp_df = snp_df[~(duplicate_refsnp_id & nan_entries_gene)] ### Remove entries with duplicated refsnp_id and nan associated_gene\n",
    "\n",
    "snp_df = snp_df.reset_index(drop=True)"
   ]
  },
  {
   "cell_type": "code",
   "execution_count": 5,
   "metadata": {},
   "outputs": [
    {
     "data": {
      "text/html": [
       "<div>\n",
       "<style scoped>\n",
       "    .dataframe tbody tr th:only-of-type {\n",
       "        vertical-align: middle;\n",
       "    }\n",
       "\n",
       "    .dataframe tbody tr th {\n",
       "        vertical-align: top;\n",
       "    }\n",
       "\n",
       "    .dataframe thead th {\n",
       "        text-align: right;\n",
       "    }\n",
       "</style>\n",
       "<table border=\"1\" class=\"dataframe\">\n",
       "  <thead>\n",
       "    <tr style=\"text-align: right;\">\n",
       "      <th></th>\n",
       "      <th>refsnp_id</th>\n",
       "      <th>associated_gene</th>\n",
       "    </tr>\n",
       "  </thead>\n",
       "  <tbody>\n",
       "    <tr>\n",
       "      <th>0</th>\n",
       "      <td>rs11136000</td>\n",
       "      <td>CLU</td>\n",
       "    </tr>\n",
       "    <tr>\n",
       "      <th>1</th>\n",
       "      <td>rs139237860</td>\n",
       "      <td>NaN</td>\n",
       "    </tr>\n",
       "    <tr>\n",
       "      <th>2</th>\n",
       "      <td>rs141088742</td>\n",
       "      <td>FOXG1</td>\n",
       "    </tr>\n",
       "    <tr>\n",
       "      <th>3</th>\n",
       "      <td>rs143223844</td>\n",
       "      <td>FOXG1</td>\n",
       "    </tr>\n",
       "    <tr>\n",
       "      <th>4</th>\n",
       "      <td>rs147154860</td>\n",
       "      <td>FOXG1</td>\n",
       "    </tr>\n",
       "    <tr>\n",
       "      <th>5</th>\n",
       "      <td>rs148157138</td>\n",
       "      <td>FOXG1</td>\n",
       "    </tr>\n",
       "    <tr>\n",
       "      <th>6</th>\n",
       "      <td>rs150277632</td>\n",
       "      <td>NaN</td>\n",
       "    </tr>\n",
       "    <tr>\n",
       "      <th>7</th>\n",
       "      <td>rs157580</td>\n",
       "      <td>TOMM40</td>\n",
       "    </tr>\n",
       "    <tr>\n",
       "      <th>8</th>\n",
       "      <td>rs157580</td>\n",
       "      <td>APOcluster</td>\n",
       "    </tr>\n",
       "    <tr>\n",
       "      <th>9</th>\n",
       "      <td>rs157580</td>\n",
       "      <td>APOE</td>\n",
       "    </tr>\n",
       "    <tr>\n",
       "      <th>10</th>\n",
       "      <td>rs2075650</td>\n",
       "      <td>TOMM40</td>\n",
       "    </tr>\n",
       "    <tr>\n",
       "      <th>11</th>\n",
       "      <td>rs2075650</td>\n",
       "      <td>APOE</td>\n",
       "    </tr>\n",
       "    <tr>\n",
       "      <th>12</th>\n",
       "      <td>rs2075650</td>\n",
       "      <td>BCAM</td>\n",
       "    </tr>\n",
       "    <tr>\n",
       "      <th>13</th>\n",
       "      <td>rs2075650</td>\n",
       "      <td>PVR</td>\n",
       "    </tr>\n",
       "    <tr>\n",
       "      <th>14</th>\n",
       "      <td>rs2075650</td>\n",
       "      <td>EXOC3L2</td>\n",
       "    </tr>\n",
       "    <tr>\n",
       "      <th>15</th>\n",
       "      <td>rs2075650</td>\n",
       "      <td>PVRL2</td>\n",
       "    </tr>\n",
       "    <tr>\n",
       "      <th>16</th>\n",
       "      <td>rs2075650</td>\n",
       "      <td>BCL3</td>\n",
       "    </tr>\n",
       "    <tr>\n",
       "      <th>17</th>\n",
       "      <td>rs2075650</td>\n",
       "      <td>APOC1</td>\n",
       "    </tr>\n",
       "    <tr>\n",
       "      <th>18</th>\n",
       "      <td>rs28935168</td>\n",
       "      <td>MECP2</td>\n",
       "    </tr>\n",
       "    <tr>\n",
       "      <th>19</th>\n",
       "      <td>rs368707795</td>\n",
       "      <td>FOXG1</td>\n",
       "    </tr>\n",
       "    <tr>\n",
       "      <th>20</th>\n",
       "      <td>rs369673538</td>\n",
       "      <td>NaN</td>\n",
       "    </tr>\n",
       "    <tr>\n",
       "      <th>21</th>\n",
       "      <td>rs372915038</td>\n",
       "      <td>FOXG1</td>\n",
       "    </tr>\n",
       "    <tr>\n",
       "      <th>22</th>\n",
       "      <td>rs374673901</td>\n",
       "      <td>FOXG1</td>\n",
       "    </tr>\n",
       "    <tr>\n",
       "      <th>23</th>\n",
       "      <td>rs375378714</td>\n",
       "      <td>FOXG1</td>\n",
       "    </tr>\n",
       "    <tr>\n",
       "      <th>24</th>\n",
       "      <td>rs4147929</td>\n",
       "      <td>ABCA7</td>\n",
       "    </tr>\n",
       "    <tr>\n",
       "      <th>25</th>\n",
       "      <td>rs5030849</td>\n",
       "      <td>PAH</td>\n",
       "    </tr>\n",
       "    <tr>\n",
       "      <th>26</th>\n",
       "      <td>rs5030856</td>\n",
       "      <td>PAH</td>\n",
       "    </tr>\n",
       "    <tr>\n",
       "      <th>27</th>\n",
       "      <td>rs5030858</td>\n",
       "      <td>PAH</td>\n",
       "    </tr>\n",
       "    <tr>\n",
       "      <th>28</th>\n",
       "      <td>rs61748411</td>\n",
       "      <td>MECP2</td>\n",
       "    </tr>\n",
       "    <tr>\n",
       "      <th>29</th>\n",
       "      <td>rs61751443</td>\n",
       "      <td>MECP2</td>\n",
       "    </tr>\n",
       "    <tr>\n",
       "      <th>30</th>\n",
       "      <td>rs61751449</td>\n",
       "      <td>MECP2</td>\n",
       "    </tr>\n",
       "    <tr>\n",
       "      <th>31</th>\n",
       "      <td>rs62508646</td>\n",
       "      <td>PAH</td>\n",
       "    </tr>\n",
       "    <tr>\n",
       "      <th>32</th>\n",
       "      <td>rs63750264</td>\n",
       "      <td>APP</td>\n",
       "    </tr>\n",
       "    <tr>\n",
       "      <th>33</th>\n",
       "      <td>rs6656401</td>\n",
       "      <td>CR1</td>\n",
       "    </tr>\n",
       "    <tr>\n",
       "      <th>34</th>\n",
       "      <td>rs6656401</td>\n",
       "      <td>CR2</td>\n",
       "    </tr>\n",
       "    <tr>\n",
       "      <th>35</th>\n",
       "      <td>rs6701713</td>\n",
       "      <td>CR1</td>\n",
       "    </tr>\n",
       "    <tr>\n",
       "      <th>36</th>\n",
       "      <td>rs9349407</td>\n",
       "      <td>CD2AP</td>\n",
       "    </tr>\n",
       "  </tbody>\n",
       "</table>\n",
       "</div>"
      ],
      "text/plain": [
       "      refsnp_id associated_gene\n",
       "0    rs11136000             CLU\n",
       "1   rs139237860             NaN\n",
       "2   rs141088742           FOXG1\n",
       "3   rs143223844           FOXG1\n",
       "4   rs147154860           FOXG1\n",
       "5   rs148157138           FOXG1\n",
       "6   rs150277632             NaN\n",
       "7      rs157580          TOMM40\n",
       "8      rs157580      APOcluster\n",
       "9      rs157580            APOE\n",
       "10    rs2075650          TOMM40\n",
       "11    rs2075650            APOE\n",
       "12    rs2075650            BCAM\n",
       "13    rs2075650             PVR\n",
       "14    rs2075650         EXOC3L2\n",
       "15    rs2075650           PVRL2\n",
       "16    rs2075650            BCL3\n",
       "17    rs2075650           APOC1\n",
       "18   rs28935168           MECP2\n",
       "19  rs368707795           FOXG1\n",
       "20  rs369673538             NaN\n",
       "21  rs372915038           FOXG1\n",
       "22  rs374673901           FOXG1\n",
       "23  rs375378714           FOXG1\n",
       "24    rs4147929           ABCA7\n",
       "25    rs5030849             PAH\n",
       "26    rs5030856             PAH\n",
       "27    rs5030858             PAH\n",
       "28   rs61748411           MECP2\n",
       "29   rs61751443           MECP2\n",
       "30   rs61751449           MECP2\n",
       "31   rs62508646             PAH\n",
       "32   rs63750264             APP\n",
       "33    rs6656401             CR1\n",
       "34    rs6656401             CR2\n",
       "35    rs6701713             CR1\n",
       "36    rs9349407           CD2AP"
      ]
     },
     "execution_count": 5,
     "metadata": {},
     "output_type": "execute_result"
    }
   ],
   "source": [
    "snp_df"
   ]
  },
  {
   "cell_type": "markdown",
   "metadata": {},
   "source": [
    "### Create base for network"
   ]
  },
  {
   "cell_type": "code",
   "execution_count": 6,
   "metadata": {},
   "outputs": [
    {
     "name": "stdout",
     "output_type": "stream",
     "text": [
      "Applying default style...\n",
      "Applying preferred layout\n"
     ]
    },
    {
     "data": {
      "text/plain": [
       "3858"
      ]
     },
     "execution_count": 6,
     "metadata": {},
     "output_type": "execute_result"
    }
   ],
   "source": [
    "variants = snp_df['refsnp_id'].dropna().tolist()\n",
    "genes = snp_df['associated_gene'].dropna().tolist()\n",
    "\n",
    "all_ids = set(variants + genes)\n",
    "\n",
    "nodes = pd.DataFrame({'id': list(all_ids),\n",
    "                      'group': ['SNP' if node in set(variants) else 'Gene' for node in set(all_ids)]})\n",
    "\n",
    "edges = snp_df.dropna().rename(columns={'refsnp_id': 'source', 'associated_gene': 'target'})\n",
    "\n",
    "edges['source'] = edges['source'].astype(str)\n",
    "edges['target'] = edges['target'].astype(str)\n",
    "\n",
    "p4c.create_network_from_data_frames(nodes, edges, title=\"Variant-Gene Network\", collection=\"network-task\")"
   ]
  },
  {
   "cell_type": "markdown",
   "metadata": {},
   "source": [
    "### Import wikipathways"
   ]
  },
  {
   "cell_type": "code",
   "execution_count": 7,
   "metadata": {},
   "outputs": [
    {
     "data": {
      "text/plain": [
       "{}"
      ]
     },
     "execution_count": 7,
     "metadata": {},
     "output_type": "execute_result"
    }
   ],
   "source": [
    "wp_path = os.path.join(os.getcwd(), \"../wikipathways_set\", \"wikipathways_hsa_20240410.xgmml\")\n",
    "ctl_extend_cmd = f'cytargetlinker extend idAttribute=\"shared name\" linkSetFiles=\"{wp_path}\" network=current direction=SOURCES'\n",
    "p4c.commands_run(ctl_extend_cmd)\n",
    "p4c.layout_network('force-directed')"
   ]
  },
  {
   "cell_type": "markdown",
   "metadata": {},
   "source": [
    "### Import style"
   ]
  },
  {
   "cell_type": "code",
   "execution_count": 8,
   "metadata": {},
   "outputs": [
    {
     "data": {
      "text/plain": [
       "{}"
      ]
     },
     "execution_count": 8,
     "metadata": {},
     "output_type": "execute_result"
    }
   ],
   "source": [
    "custom_style = os.path.join(os.getcwd(), \"../data\", \"custom_style.xml\")\n",
    "load_style_cmd = f'vizmap load file file=\"{custom_style}\"'\n",
    "p4c.commands_run(load_style_cmd)\n",
    "p4c.commands_run('vizmap apply styles=\"custom_style\"')\n",
    "p4c.layout_network('force-directed')"
   ]
  },
  {
   "cell_type": "markdown",
   "metadata": {},
   "source": [
    "### Save the network and session"
   ]
  },
  {
   "cell_type": "code",
   "execution_count": 9,
   "metadata": {},
   "outputs": [
    {
     "data": {
      "text/plain": [
       "{}"
      ]
     },
     "execution_count": 9,
     "metadata": {},
     "output_type": "execute_result"
    }
   ],
   "source": [
    "image_path = os.path.join(os.getcwd(), \"../results\", \"variant_gene_network.pdf\")\n",
    "session_path = os.path.join(os.getcwd(), \"../results\", \"variant_gene_network.cys\")\n",
    "\n",
    "p4c.export_image(image_path, type=\"PDF\", overwrite_file=True)\n",
    "p4c.save_session(session_path, overwrite_file=True)"
   ]
  },
  {
   "cell_type": "code",
   "execution_count": 10,
   "metadata": {},
   "outputs": [
    {
     "data": {
      "text/plain": [
       "['attribute-circle',\n",
       " 'stacked-node-layout',\n",
       " 'attribute-grid',\n",
       " 'degree-circle',\n",
       " 'circular',\n",
       " 'attributes-layout',\n",
       " 'kamada-kawai',\n",
       " 'force-directed',\n",
       " 'cose',\n",
       " 'grid',\n",
       " 'hierarchical',\n",
       " 'fruchterman-rheingold',\n",
       " 'isom',\n",
       " 'force-directed-cl']"
      ]
     },
     "execution_count": 10,
     "metadata": {},
     "output_type": "execute_result"
    }
   ],
   "source": [
    "p4c.get_layout_names()"
   ]
  },
  {
   "cell_type": "code",
   "execution_count": null,
   "metadata": {},
   "outputs": [],
   "source": []
  }
 ],
 "metadata": {
  "kernelspec": {
   "display_name": "biomart",
   "language": "python",
   "name": "python3"
  },
  "language_info": {
   "codemirror_mode": {
    "name": "ipython",
    "version": 3
   },
   "file_extension": ".py",
   "mimetype": "text/x-python",
   "name": "python",
   "nbconvert_exporter": "python",
   "pygments_lexer": "ipython3",
   "version": "3.12.5"
  }
 },
 "nbformat": 4,
 "nbformat_minor": 2
}
